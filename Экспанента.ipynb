{
 "cells": [
  {
   "cell_type": "code",
   "execution_count": 1,
   "metadata": {},
   "outputs": [
    {
     "name": "stdout",
     "output_type": "stream",
     "text": [
      "7.389056098930649\n"
     ]
    }
   ],
   "source": [
    "import math\n",
    "def factorial(n):\n",
    "    r = 1\n",
    "    for i in range(1, n+1):\n",
    "        r = r * i\n",
    "    return r\n",
    "\n",
    "def e_v_stepeni_x(x):\n",
    "    a = 0\n",
    "    for s in range(0, 30):\n",
    "        a = a + (x**s)/(factorial(s))\n",
    "    return a\n",
    "print(e_v_stepeni_x(2))   #Проверил на единице и двойке, все работает👍🏻👍🏻"
   ]
  }
 ],
 "metadata": {
  "kernelspec": {
   "display_name": "Python 3",
   "language": "python",
   "name": "python3"
  },
  "language_info": {
   "codemirror_mode": {
    "name": "ipython",
    "version": 3
   },
   "file_extension": ".py",
   "mimetype": "text/x-python",
   "name": "python",
   "nbconvert_exporter": "python",
   "pygments_lexer": "ipython3",
   "version": "3.8.6"
  }
 },
 "nbformat": 4,
 "nbformat_minor": 4
}
