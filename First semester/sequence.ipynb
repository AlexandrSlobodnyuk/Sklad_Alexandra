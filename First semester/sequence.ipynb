{
 "cells": [
  {
   "cell_type": "code",
   "execution_count": 1,
   "metadata": {},
   "outputs": [
    {
     "name": "stdout",
     "output_type": "stream",
     "text": [
      "1 1\n",
      "2 2\n",
      "3 4\n",
      "4 8\n",
      "5 16\n",
      "6 32\n",
      "7 64\n",
      "8 128\n",
      "9 256\n",
      "10 512\n",
      "11 1024\n",
      "12 2048\n",
      "13 4096\n",
      "14 8192\n",
      "15 16384\n",
      "16 32768\n",
      "17 65536\n",
      "18 131072\n",
      "19 262144\n",
      "20 524288\n"
     ]
    }
   ],
   "source": [
    "class extents_of_two:\n",
    "    \n",
    "    class two_iter:\n",
    "\n",
    "        def __init__(self):\n",
    "            self.i = 1\n",
    "            self.two = 0\n",
    "\n",
    "        def __next__(self):\n",
    "            self.two = self.i\n",
    "            self.i += self.two\n",
    "            return self.two\n",
    "\n",
    "    def __iter__(self):\n",
    "        return extents_of_two.two_iter()\n",
    "\n",
    "\n",
    "import itertools as it\n",
    "\n",
    "for i, f in zip(it.count(1), it.islice(extents_of_two(), 20)):\n",
    "    print(i, f)"
   ]
  }
 ],
 "metadata": {
  "kernelspec": {
   "display_name": "Python 3",
   "language": "python",
   "name": "python3"
  },
  "language_info": {
   "codemirror_mode": {
    "name": "ipython",
    "version": 3
   },
   "file_extension": ".py",
   "mimetype": "text/x-python",
   "name": "python",
   "nbconvert_exporter": "python",
   "pygments_lexer": "ipython3",
   "version": "3.8.6"
  }
 },
 "nbformat": 4,
 "nbformat_minor": 4
}
