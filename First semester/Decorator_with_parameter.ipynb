{
 "cells": [
  {
   "cell_type": "code",
   "execution_count": 5,
   "metadata": {},
   "outputs": [
    {
     "name": "stdout",
     "output_type": "stream",
     "text": [
      "9\n",
      "4\n"
     ]
    }
   ],
   "source": [
    "def repeat(n):  \n",
    "    def recurse_function(function_to_recurse):\n",
    "        def fake_function(*args, **kwargs):\n",
    "            result = args[0]\n",
    "            for i in range(n):\n",
    "                result = function_to_recurse(result)\n",
    "            return result\n",
    "        return fake_function\n",
    "    return recurse_function\n",
    "        \n",
    "\n",
    "\n",
    "@repeat(3)\n",
    "def plus_2(x):\n",
    "    return x + 2\n",
    "\n",
    "\n",
    "@repeat(0)\n",
    "def mul_3(x):\n",
    "    return x * 3\n",
    "\n",
    "print(plus_2(3))\n",
    "print(mul_3(4)) "
   ]
  },
  {
   "cell_type": "code",
   "execution_count": null,
   "metadata": {},
   "outputs": [],
   "source": []
  }
 ],
 "metadata": {
  "kernelspec": {
   "display_name": "Python 3",
   "language": "python",
   "name": "python3"
  },
  "language_info": {
   "codemirror_mode": {
    "name": "ipython",
    "version": 3
   },
   "file_extension": ".py",
   "mimetype": "text/x-python",
   "name": "python",
   "nbconvert_exporter": "python",
   "pygments_lexer": "ipython3",
   "version": "3.8.6"
  }
 },
 "nbformat": 4,
 "nbformat_minor": 4
}
