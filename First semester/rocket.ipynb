{
 "cells": [
  {
   "cell_type": "code",
   "execution_count": 1,
   "metadata": {},
   "outputs": [
    {
     "data": {
      "text/plain": [
       "[<matplotlib.lines.Line2D at 0x223b9b09940>]"
      ]
     },
     "execution_count": 1,
     "metadata": {},
     "output_type": "execute_result"
    },
    {
     "data": {
      "image/png": "[encoded data removed]",
      "text/plain": [
       "<Figure size 432x288 with 1 Axes>"
      ]
     },
     "metadata": {
      "needs_background": "light"
     },
     "output_type": "display_data"
    }
   ],
   "source": [
    "import math\n",
    "import numpy as np \n",
    "import matplotlib.pyplot as plt\n",
    "MODEL_G = 9.8\n",
    "MODEL_DM = 0.1\n",
    "MODEL_DT = 0.001\n",
    "MODEL_DU = 30\n",
    "class Body:\n",
    "    def __init__(self, x, y, vx, vy):\n",
    "        self.x = x\n",
    "        self.y = y\n",
    "        self.vx = vx\n",
    "        self.vy = vy\n",
    "        self.trajectory_x = []\n",
    "        self.trajectory_y = []\n",
    "    def advance(self):\n",
    "        self.trajectory_x.append(self.x)\n",
    "        self.trajectory_y.append(self.y)\n",
    "\n",
    "        self.x += self.vx * MODEL_DT\n",
    "        self.y += self.vy * MODEL_DT\n",
    "        self.vy -= MODEL_G * MODEL_DT\n",
    "class Rocket(Body):\n",
    "    def __init__(self,vx, vy, x, y, m):\n",
    "        self.m = m\n",
    "        super().__init__(x, y, 10, 10)\n",
    "\n",
    "    def advance(self):\n",
    "        if self.m >= 20:\n",
    "            self.trajectory_x.append(self.x)\n",
    "            self.trajectory_y.append(self.y)\n",
    "            self.m -= MODEL_DM\n",
    "            v = (self.vx**2 +self.vy**2)**0.5\n",
    "            dv = MODEL_DU * MODEL_DM / self.m\n",
    "            self.vx += dv * self.vx / v\n",
    "            self.vy += dv * self.vy / v\n",
    "            self.x += self.vx * MODEL_DT \n",
    "            self.y += self.vy * MODEL_DT \n",
    "        else:\n",
    "            self.trajectory_x.append(self.x)\n",
    "            self.trajectory_y.append(self.y)\n",
    "\n",
    "            self.x += self.vx * MODEL_DT\n",
    "            self.y += self.vy * MODEL_DT\n",
    "            self.vy -= MODEL_G * MODEL_DT\n",
    "            \n",
    "kamen = Body(0, 0, 10, 10)\n",
    "Vostok = Rocket (10, 10, 0,  0, 50)\n",
    "\n",
    "for i in np.r_[0:2:MODEL_DT]:\n",
    "    kamen.advance()\n",
    "for i in np.r_[0:3:MODEL_DT]:\n",
    "    Vostok.advance()    \n",
    "plt.plot(kamen.trajectory_x, kamen.trajectory_y)\n",
    "plt.plot(Vostok.trajectory_x, Vostok.trajectory_y)"
   ]
  },
  {
   "cell_type": "code",
   "execution_count": null,
   "metadata": {},
   "outputs": [],
   "source": []
  }
 ],
 "metadata": {
  "kernelspec": {
   "display_name": "Python 3",
   "language": "python",
   "name": "python3"
  },
  "language_info": {
   "codemirror_mode": {
    "name": "ipython",
    "version": 3
   },
   "file_extension": ".py",
   "mimetype": "text/x-python",
   "name": "python",
   "nbconvert_exporter": "python",
   "pygments_lexer": "ipython3",
   "version": "3.8.6"
  }
 },
 "nbformat": 4,
 "nbformat_minor": 4
}
