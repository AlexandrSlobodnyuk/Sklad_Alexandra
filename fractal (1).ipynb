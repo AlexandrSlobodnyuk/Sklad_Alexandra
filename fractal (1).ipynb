{
 "cells": [
  {
   "cell_type": "code",
   "execution_count": null,
   "metadata": {},
   "outputs": [],
   "source": [
    "import turtle as tl\n",
    "\n",
    "def draw_fractal(scale):\n",
    "    if scale >= 8:\n",
    "        draw_fractal(scale / 3.0)\n",
    "        tl.left(120)\n",
    "        draw_fractal(scale / 3.0)\n",
    "        tl.right(120)\n",
    "        draw_fractal(scale / 3.0)\n",
    "        tl.right(120)\n",
    "        draw_fractal(scale / 3.0)\n",
    "        tl.left(120)\n",
    "        draw_fractal(scale / 3.0)\n",
    "        \n",
    "      \n",
    "    else:\n",
    "        tl.forward(scale)\n",
    "\n",
    "scale = 400\n",
    "tl.penup()\n",
    "tl.goto(-scale, -scale/4)\n",
    "tl.pendown()\n",
    "tl.speed(0)\n",
    "draw_fractal(scale)\n",
    "tl.done()\n"
   ]
  },
  {
   "cell_type": "code",
   "execution_count": null,
   "metadata": {},
   "outputs": [],
   "source": []
  }
 ],
 "metadata": {
  "kernelspec": {
   "display_name": "Python 3",
   "language": "python",
   "name": "python3"
  },
  "language_info": {
   "codemirror_mode": {
    "name": "ipython",
    "version": 3
   },
   "file_extension": ".py",
   "mimetype": "text/x-python",
   "name": "python",
   "nbconvert_exporter": "python",
   "pygments_lexer": "ipython3",
   "version": "3.8.6"
  }
 },
 "nbformat": 4,
 "nbformat_minor": 4
}
