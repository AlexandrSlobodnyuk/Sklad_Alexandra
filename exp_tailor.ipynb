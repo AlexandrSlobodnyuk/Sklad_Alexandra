{
 "cells": [
  {
   "cell_type": "code",
   "execution_count": 11,
   "metadata": {},
   "outputs": [
    {
     "name": "stdout",
     "output_type": "stream",
     "text": [
      "20.08553692318766\n"
     ]
    },
    {
     "data": {
      "image/png": "[encoded data removed]",
      "text/plain": [
       "<Figure size 432x288 with 1 Axes>"
      ]
     },
     "metadata": {
      "needs_background": "light"
     },
     "output_type": "display_data"
    }
   ],
   "source": [
    "import math\n",
    "import numpy as np\n",
    "import matplotlib.pyplot as plt\n",
    "def factorial(n):\n",
    "    r = 1\n",
    "    while n >= 1:\n",
    "        r = r * n\n",
    "        n = n-1\n",
    "    return r\n",
    "def e_v_stepeni_x(x):\n",
    "    a = 0\n",
    "    for s in range(0, 30):\n",
    "        a = a + (x**s)/(factorial(s))\n",
    "    return a\n",
    "print(e_v_stepeni_x(3))\n",
    "fig, ax = plt.subplots()\n",
    "p = np.linspace(-5, 5, 500)\n",
    "y = e_v_stepeni_x(p)\n",
    "ax.plot(p, y)\n",
    "plt.show()\n"
   ]
  },
  {
   "cell_type": "code",
   "execution_count": null,
   "metadata": {},
   "outputs": [],
   "source": []
  }
 ],
 "metadata": {
  "kernelspec": {
   "display_name": "Python 3",
   "language": "python",
   "name": "python3"
  },
  "language_info": {
   "codemirror_mode": {
    "name": "ipython",
    "version": 3
   },
   "file_extension": ".py",
   "mimetype": "text/x-python",
   "name": "python",
   "nbconvert_exporter": "python",
   "pygments_lexer": "ipython3",
   "version": "3.8.6"
  }
 },
 "nbformat": 4,
 "nbformat_minor": 4
}
