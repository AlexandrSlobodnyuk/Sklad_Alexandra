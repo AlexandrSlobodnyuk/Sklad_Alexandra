{
 "cells": [
  {
   "cell_type": "code",
   "execution_count": 19,
   "metadata": {},
   "outputs": [
    {
     "name": "stdout",
     "output_type": "stream",
     "text": [
      "[215, 225, 235, 245]\n"
     ]
    }
   ],
   "source": [
    "def search(text, extract):\n",
    "    result = []\n",
    "    extract_sum = 0\n",
    "    for i in range(len(extract)):\n",
    "        extract_sum += ord(extract[i])\n",
    "    for i in range(len(text) - len(extract) +1):\n",
    "        string_sum = 0\n",
    "        for k in range(i, i + len(extract)):\n",
    "            string_sum += ord(text[k])\n",
    "        if  extract_sum == string_sum:\n",
    "            if  text.startswith(extract, i):\n",
    "                result.append(i)\n",
    "    return(result)    \n",
    "text = \"\"\"Вместе шли они в сраженья через минные поля,\n",
    "на узлах сопротивленья славу поровну деля.\n",
    "Не страшили дождь и ночь их, и немало огневых\n",
    "подавили они точек, не считая запятых.\n",
    "Воевала дело зная та четверка храбрецов -\n",
    "Иваненко, Иванбаев, Иванидзе, Иванов.\"\"\"\n",
    "extract = \"\"\"Иван\"\"\"\n",
    "\n",
    "print(search(text, extract))\n",
    "            \n",
    "            \n",
    "\n",
    "\n",
    "\n",
    "\n",
    "\n",
    "\n",
    "\n"
   ]
  },
  {
   "cell_type": "code",
   "execution_count": null,
   "metadata": {},
   "outputs": [],
   "source": []
  }
 ],
 "metadata": {
  "kernelspec": {
   "display_name": "Python 3",
   "language": "python",
   "name": "python3"
  },
  "language_info": {
   "codemirror_mode": {
    "name": "ipython",
    "version": 3
   },
   "file_extension": ".py",
   "mimetype": "text/x-python",
   "name": "python",
   "nbconvert_exporter": "python",
   "pygments_lexer": "ipython3",
   "version": "3.8.6"
  }
 },
 "nbformat": 4,
 "nbformat_minor": 4
}
