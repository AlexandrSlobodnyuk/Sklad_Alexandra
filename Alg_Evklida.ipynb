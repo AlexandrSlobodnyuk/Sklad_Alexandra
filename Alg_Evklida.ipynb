{
 "cells": [
  {
   "cell_type": "code",
   "execution_count": 15,
   "metadata": {},
   "outputs": [
    {
     "name": "stdout",
     "output_type": "stream",
     "text": [
      "2 - gcd of a and b\n"
     ]
    }
   ],
   "source": [
    "def gcd(a,b):\n",
    "    if (b == 0):\n",
    "        return a;\n",
    "    else:\n",
    "        return gcd(b, a % b);\n",
    "print(gcd(-2, 12), '- gcd of a and b')\n"
   ]
  },
  {
   "cell_type": "code",
   "execution_count": 9,
   "metadata": {},
   "outputs": [
    {
     "name": "stdout",
     "output_type": "stream",
     "text": [
      "(16, 1, -1)\n",
      "x = 1, y = -1\n"
     ]
    }
   ],
   "source": [
    "num1 = 272\n",
    "num2 = 256\n",
    "def alg_extended(num1, num2):\n",
    "    if num1 == 0:\n",
    "        return (num2, 0, 1)\n",
    "    else:\n",
    "        div, x, y = alg_extended(num2 % num1, num1)\n",
    "    return (div, y - (num2 // num1) * x, x)\n",
    "\n",
    "b = alg_extended(num1, num2)\n",
    "print(alg_extended(num1, num2))\n",
    "print(f'x = {b[1]}, y = {b[2]}')\n"
   ]
  },
  {
   "cell_type": "code",
   "execution_count": 1,
   "metadata": {},
   "outputs": [
    {
     "name": "stdout",
     "output_type": "stream",
     "text": [
      "89 is prime or pseudoprime\n"
     ]
    }
   ],
   "source": [
    "def gcd(c,b):\n",
    "    if (b == 0):\n",
    "        return c;\n",
    "    else:\n",
    "        return gcd(b, c % b)\n",
    "def Test_Ferma(p):\n",
    "    a = 2\n",
    "    while gcd(a,p) != 1:\n",
    "        a += 1    \n",
    "    if p <= 1:\n",
    "        print(p, 'is not prime')\n",
    "    else:\n",
    "        if (a**(p-1)) % p == 1:\n",
    "            print(p, 'is prime or pseudoprime')\n",
    "        else: \n",
    "            print(p, 'is not prime')\n",
    "Test_Ferma(89)         \n",
    "    "
   ]
  },
  {
   "cell_type": "code",
   "execution_count": 25,
   "metadata": {},
   "outputs": [
    {
     "name": "stdout",
     "output_type": "stream",
     "text": [
      "-7 - is not prime\n"
     ]
    }
   ],
   "source": [
    "Primes = []\n",
    "def primary_checking(a):\n",
    "    if a <= 1:\n",
    "        print(a, '- is not prime')\n",
    "    else:    \n",
    "        k = 0\n",
    "        l = 0\n",
    "        for i in range(2,a):\n",
    "            k += 1 \n",
    "            if a % i == 0:\n",
    "                print(a, '- is not prime') \n",
    "                break\n",
    "            else:\n",
    "                l += 1\n",
    "        if l == k:\n",
    "            print(a, '- is prime')\n",
    "primary_checking(7)    \n",
    "    "
   ]
  },
  {
   "cell_type": "code",
   "execution_count": null,
   "metadata": {},
   "outputs": [],
   "source": []
  }
 ],
 "metadata": {
  "kernelspec": {
   "display_name": "Python 3",
   "language": "python",
   "name": "python3"
  },
  "language_info": {
   "codemirror_mode": {
    "name": "ipython",
    "version": 3
   },
   "file_extension": ".py",
   "mimetype": "text/x-python",
   "name": "python",
   "nbconvert_exporter": "python",
   "pygments_lexer": "ipython3",
   "version": "3.8.6"
  }
 },
 "nbformat": 4,
 "nbformat_minor": 4
}
